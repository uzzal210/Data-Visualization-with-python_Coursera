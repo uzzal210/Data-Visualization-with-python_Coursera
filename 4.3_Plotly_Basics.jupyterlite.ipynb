{
 "cells": [
  {
   "cell_type": "markdown",
   "id": "83e733bb-08cf-4a04-82b0-5a1a21fa16ea",
   "metadata": {},
   "source": [
    "<center>\n",
    "    <img src=\"https://cf-courses-data.s3.us.cloud-object-storage.appdomain.cloud/IBMDeveloperSkillsNetwork-DV0101EN-SkillsNetwork/labs/Module%204/logo.png\" width=\"300\" alt=\"cognitiveclass.ai logo\">\n",
    "</center>\n"
   ]
  },
  {
   "cell_type": "markdown",
   "id": "64cb4d1b-a1cc-4cdb-a858-83535adefc6c",
   "metadata": {},
   "source": [
    "# Basic Plotly Charts\n",
    "\n",
    "Estimated time needed: 45 minutes\n"
   ]
  },
  {
   "cell_type": "markdown",
   "id": "d2d45b6b-96a6-4145-8227-d56a702e703f",
   "metadata": {},
   "source": [
    "# Objectives\n",
    "\n",
    "\n",
    "After completing this lab, you will be able to:\n",
    "\n",
    "*   Use plotly graph objects and plotly express libraries to plot different types of charts\n",
    "*   Create interesting visualizations on Airline Reporting Carrier On-Time Performance Dataset \n"
   ]
  },
  {
   "cell_type": "markdown",
   "id": "d9795806-6b40-4330-8b38-b5a7a84e8aa9",
   "metadata": {},
   "source": [
    "# Plotly graph objects and Plotly express libraries to plot different types of charts \n",
    "\n",
    "## Plotly Libraries\n",
    "\n",
    "**plotly.graph_objects:** \n",
    "This is a low level interface to figures, traces and layout. The Plotly graph objects module provides an automatically generated hierarchy of classes ( figures, traces, and layout) called graph objects. These graph objects represent figures with a top-level class plotly.graph_objects.Figure.\n",
    "\n",
    "**plotly.express:** \n",
    "Plotly express is a high-level wrapper for Plotly. It is a recommended starting point for creating the most common figures provided by Plotly using a simpler syntax. It uses graph objects internally.\n",
    "Now let us use these libraries to plot some charts\n",
    "We will start with plotly_graph_objects to plot line and scatter plots\n",
    "> Note: You can hover the mouse over the charts whenever you want to view any statistics in the visualization charts \n",
    "\n",
    "\n",
    "\n",
    "\n",
    "## Exercise I: Get Started with Different Chart types in Plotly\n"
   ]
  },
  {
   "cell_type": "code",
   "execution_count": null,
   "id": "54379613-f954-415a-aeae-91669117248b",
   "metadata": {},
   "outputs": [],
   "source": [
    "import piplite\n",
    "\n",
    "await piplite.install(['nbformat', 'plotly'])"
   ]
  },
  {
   "cell_type": "code",
   "execution_count": null,
   "id": "28f742e3-bd5e-4b71-b1dd-bd2b48a3d1e0",
   "metadata": {},
   "outputs": [],
   "source": [
    "# Import required libraries\n",
    "import pandas as pd\n",
    "import numpy as np\n",
    "import plotly.express as px\n",
    "import plotly.graph_objects as go"
   ]
  },
  {
   "cell_type": "markdown",
   "id": "62ef59ea-c0e3-4720-bc85-86c480f311c8",
   "metadata": {},
   "source": [
    "## 1. Scatter Plot: \n",
    "A scatter plot shows the relationship between 2 variables on the x and y-axis. The data points here appear scattered when plotted on a two-dimensional plane. Using scatter plots, we can create exciting visualizations to express various relationships, such as:\n",
    "\n",
    "* Height vs weight of persons\n",
    "* Engine size vs automobile price\n",
    "* Exercise time vs Body Fat\n"
   ]
  },
  {
   "cell_type": "code",
   "execution_count": null,
   "id": "072d6b9d-ac68-4436-8ab3-e0a4056911cf",
   "metadata": {},
   "outputs": [],
   "source": [
    "##Example 1: Let us illustrate the income vs age of people in a scatter plot\n",
    "\n",
    "age_array=np.random.randint(25,55,60)\n",
    "# Define an array containing salesamount values \n",
    "income_array=np.random.randint(300000,700000,3000000)"
   ]
  },
  {
   "cell_type": "code",
   "execution_count": null,
   "id": "76a3c779-fcfb-4837-af99-cc8d67ea4b43",
   "metadata": {},
   "outputs": [],
   "source": [
    "##First we will create an empty figure using go.Figure()\n",
    "fig=go.Figure()\n",
    "fig"
   ]
  },
  {
   "cell_type": "code",
   "execution_count": null,
   "id": "6ebb0e25-2e13-4ccd-806e-c01f328b80b4",
   "metadata": {},
   "outputs": [],
   "source": [
    "#Next we will create a scatter plot by using the add_trace function and use the go.scatter() function within it\n",
    "# In go.Scatter we define the x-axis data,y-axis data and define the mode as markers with color of the marker as blue\n",
    "fig.add_trace(go.Scatter(x=age_array, y=income_array, mode='markers', marker=dict(color='blue')))"
   ]
  },
  {
   "cell_type": "markdown",
   "id": "b840a03e-92ac-4b7a-ae28-cd90bee1c0a5",
   "metadata": {},
   "source": [
    "**However in the previous output title, x-axis and y-axis labels are missing. Let us use the update_layout function to update the title and labels.**\n"
   ]
  },
  {
   "cell_type": "code",
   "execution_count": null,
   "id": "1f484503-edcf-4a57-b4a7-76d8fdcee378",
   "metadata": {},
   "outputs": [],
   "source": [
    "## Here we update these values under function attributes such as title,xaxis_title and yaxis_title\n",
    "fig.update_layout(title='Economic Survey', xaxis_title='Age', yaxis_title='Income')\n",
    "# Display the figure\n",
    "fig.show()"
   ]
  },
  {
   "cell_type": "markdown",
   "id": "d031549a-9cc2-4cb9-8e3b-c3019ae752d1",
   "metadata": {},
   "source": [
    "#### Inferences:\n",
    "     \n",
    "From the above plot we find that the Income of a person is not correlated with age. We find that as the age increases the income may or not decrease.\n"
   ]
  },
  {
   "cell_type": "markdown",
   "id": "8cb5cc9e-923a-4693-9d2e-117c78ed771e",
   "metadata": {},
   "source": [
    "## 2. Line Plot: \n",
    "A line plot shows information that changes continuously with time. Here the data points are connected by straight lines. Line plots are also plotted on a two dimensional plane like scatter plots. Using line plots, we can create exciting visualizations to illustrate:\n",
    "\n",
    "  * Annual revenue growth\n",
    "  * Stock Market analysis over time\n",
    "  * Product Sales over time\n"
   ]
  },
  {
   "cell_type": "code",
   "execution_count": null,
   "id": "d7ed365a-1fe7-4ab5-a475-25a6e15c9388",
   "metadata": {},
   "outputs": [],
   "source": [
    "##Example 2: Let us illustrate the sales of bicycles from Jan to August last year using a line chart\n",
    "# Define an array containing numberofbicyclessold  \n",
    "numberofbicyclessold_array=[50,100,40,150,160,70,60,45]\n",
    "# Define an array containing months\n",
    "months_array=[\"Jan\",\"Feb\",\"Mar\",\"April\",\"May\",\"June\",\"July\",\"August\"]\n"
   ]
  },
  {
   "cell_type": "code",
   "execution_count": null,
   "id": "a39e81e3-426c-43ea-839e-1a1bc1dc8b02",
   "metadata": {},
   "outputs": [],
   "source": [
    "##First we will create an empty figure using go.Figure()\n",
    "fig=go.Figure()"
   ]
  },
  {
   "cell_type": "code",
   "execution_count": null,
   "id": "287a5a8c-cc16-44a7-bb29-893410b2d4cd",
   "metadata": {},
   "outputs": [],
   "source": [
    "#Next we will create a line plot by using the add_trace function and use the go.scatter() function within it\n",
    "# In go.Scatter we define the x-axis data,y-axis data and define the mode as lines with color of the marker as green\n",
    "fig.add_trace(go.Scatter(x=months_array, y=numberofbicyclessold_array, mode='lines', marker=dict(color='green')))"
   ]
  },
  {
   "cell_type": "code",
   "execution_count": null,
   "id": "31a6bfe7-6dde-4dbd-916a-68c5a2a894b9",
   "metadata": {},
   "outputs": [],
   "source": [
    "## Here we update these values under function attributes such as title,xaxis_title and yaxis_title\n",
    "fig.update_layout(title='Bicycle Sales', xaxis_title='Months', yaxis_title='Number of Bicycles Sold')\n",
    "# Display the figure\n",
    "fig.show()"
   ]
  },
  {
   "cell_type": "markdown",
   "id": "91928761-cf68-4a25-b91b-85fa07b92329",
   "metadata": {},
   "source": [
    "#### Inferences:\n",
    "     \n",
    "From the above plot we find that the sales is the highest in the month of May and then there is a decline in sales.\n"
   ]
  },
  {
   "cell_type": "markdown",
   "id": "451c0e9c-afb9-4190-8c3b-92f7c374c323",
   "metadata": {},
   "source": [
    "We will now use plotly express library to plot the other graphs\n"
   ]
  },
  {
   "cell_type": "markdown",
   "id": "1602d292-299d-44b1-9a2b-b231f20e2f87",
   "metadata": {},
   "source": [
    "  \n",
    "## 3.Bar Plot: \n",
    "A bar plot represents categorical data in rectangular bars. Each category is defined on one axis, and the value counts for this category are represented on another axis. Bar charts are generally used to compare values.We can use bar plots in visualizing:\n",
    "\n",
    " * Pizza delivery time in peak and non peak hours\n",
    " * Population comparison by gender\n",
    " * Number of views by movie name\n"
   ]
  },
  {
   "cell_type": "code",
   "execution_count": null,
   "id": "0fc8f819-907b-41e3-95e5-fbd8c80445e9",
   "metadata": {},
   "outputs": [],
   "source": [
    "##Example 3: Let us illustrate the average pass percentage of classes from grade 6 to grade 10\n",
    "\n",
    "# Define an array containing scores of students \n",
    "score_array=[80,90,56,88,95]\n",
    "# Define an array containing Grade names  \n",
    "grade_array=['Grade 6','Grade 7','Grade 8','Grade 9','Grade 10']"
   ]
  },
  {
   "cell_type": "markdown",
   "id": "bad2e15b-0ecc-45c0-b913-b337579a8162",
   "metadata": {},
   "source": [
    "**In plotly express we set the axis values and the title within the same function call `px.<graphtype>(x=<xaxis value source>,y=<y-axis value source>,title=<appropriate title as a string>)`.In the below code we use `px.bar( x=grade_array, y=score_array, title='Pass Percentage of Classes')`.**\n"
   ]
  },
  {
   "cell_type": "code",
   "execution_count": null,
   "id": "9f2cbcbd-e1e4-41a7-8188-bb288b78c2d4",
   "metadata": {},
   "outputs": [],
   "source": [
    "# Use plotly express bar chart function px.bar.Provide input data, x and y axis variable, and title of the chart.\n",
    "# This will give average pass percentage per class\n",
    "fig = px.bar( x=grade_array, y=score_array, title='Pass Percentage of Classes') \n",
    "fig.show()"
   ]
  },
  {
   "cell_type": "markdown",
   "id": "b64ee912-fc30-4117-996f-77f0dfda9ee9",
   "metadata": {},
   "source": [
    "#### Inferences:\n",
    "     \n",
    "From the above plot we find that Grade 8 has the lowest pass percentage and Grade 10 has the highest pass percentage \n"
   ]
  },
  {
   "cell_type": "markdown",
   "id": "9a243379-59d3-413c-9797-69d7d57c6ce2",
   "metadata": {},
   "source": [
    "\n",
    "## 4.Histogram: \n",
    " A histogram is used to represent continuous data in the form of bar. Each bar has discrete values in bar graphs, whereas in histograms, we have bars representing a range of values. Histograms show frequency distributions. We can use histograms to visualize:\n",
    " \n",
    " * Students marks distribution\n",
    " * Frequency of waiting time of customers in a Bank\n"
   ]
  },
  {
   "cell_type": "code",
   "execution_count": null,
   "id": "52b8e247-eed8-466b-9123-793d40f7badf",
   "metadata": {},
   "outputs": [],
   "source": [
    "##Example 4: Let us illustrate the distribution of heights of 200 people using a histogram\n",
    "\n",
    "import numpy as np\n",
    "#Here we will concentrate on heights which are 160 and the standard deviation is 11\n",
    "heights_array = np.random.normal(160, 11, 200)\n",
    "## Use plotly express histogram chart function px.histogram.Provide input data x to the histogram\n",
    "fig = px.histogram(x=heights_array,title=\"Distribution of Heights\")\n",
    "fig.show()"
   ]
  },
  {
   "cell_type": "markdown",
   "id": "ac2a0c13-8277-4932-9f54-660a784d5b5c",
   "metadata": {},
   "source": [
    "#### Inferences\n",
    "From this we can analyze that there are around \n",
    "2 people who are at the height of 130cm and 45 people at the height of 160 cm\n"
   ]
  },
  {
   "cell_type": "markdown",
   "id": "ba233303-e994-4392-89cb-5e4f365bb9be",
   "metadata": {},
   "source": [
    "## 5. Bubble Plot: \n",
    "A bubble plot is used to show the relationship between 3 or more variables. It is an extension of a scatter plot. Bubble plots are ideal for visualizing:\n",
    "\n",
    "  * Global Economic position of Industries\n",
    "  * Impact of viruses on Diseases\n"
   ]
  },
  {
   "cell_type": "code",
   "execution_count": null,
   "id": "8ecb81d3-a650-4eb8-882f-4dfec0dda5c1",
   "metadata": {},
   "outputs": [],
   "source": [
    "##Example 4: Let us illustrate crime statistics of US cities with a bubble chart\n",
    "\n",
    "#Create a dictionary having city,numberofcrimes and year as 3 keys\n",
    "crime_details = {\n",
    "    'City' : ['Chicago', 'Chicago', 'Austin', 'Austin','Seattle','Seattle'],\n",
    "    'Numberofcrimes' : [1000, 1200, 400, 700,350,1500],\n",
    "    'Year' : ['2007', '2008', '2007', '2008','2007','2008'],\n",
    "}\n",
    "  \n",
    "# create a Dataframe object with the dictionary\n",
    "df = pd.DataFrame(crime_details)\n",
    "  \n",
    "df"
   ]
  },
  {
   "cell_type": "code",
   "execution_count": null,
   "id": "3f331f80-ff59-49e8-a44b-d1cd276d2f67",
   "metadata": {},
   "outputs": [],
   "source": [
    "## Group the number of crimes by city and find the total number of crimes per city\n",
    "bub_data = df.groupby('City')['Numberofcrimes'].sum().reset_index()"
   ]
  },
  {
   "cell_type": "code",
   "execution_count": null,
   "id": "1f29b259-852e-41e2-ae0e-93f7c16f771c",
   "metadata": {},
   "outputs": [],
   "source": [
    "##Display the grouped dataframe\n",
    "bub_data"
   ]
  },
  {
   "cell_type": "code",
   "execution_count": null,
   "id": "655a1245-9ed2-442b-8e7a-fd981d95001c",
   "metadata": {},
   "outputs": [],
   "source": [
    "## Bubble chart using px.scatter function with x ,y and size varibles defined.Title defined as Crime Statistics\n",
    "fig = px.scatter(bub_data, x=\"City\", y=\"Numberofcrimes\", size=\"Numberofcrimes\",\n",
    "                 hover_name=\"City\", title='Crime Statistics', size_max=60)\n",
    "fig.show()"
   ]
  },
  {
   "cell_type": "markdown",
   "id": "38b4e9ec-0635-4352-bb4b-0a52f7e8c318",
   "metadata": {},
   "source": [
    "#### Inferences\n",
    "The size of the bubble in the bubble chart indicates that Chicago has the highest crime rate when compared with the other 2 cities.\n"
   ]
  },
  {
   "cell_type": "markdown",
   "id": "750fc3c5-18f4-4e5e-b98a-7c4b9754b534",
   "metadata": {},
   "source": [
    " ## 6.Pie Plot: \n",
    " A pie plot is a circle chart mainly used to represent proportion of part of given data with respect to the whole data. Each slice represents a proportion and on total of the proportion becomes a whole. We can use bar plots in visualizing:\n",
    " \n",
    " * Sales turnover percentatge with respect to different products\n",
    " * Monthly expenditure of a Family\n"
   ]
  },
  {
   "cell_type": "code",
   "execution_count": null,
   "id": "cf25f395-f369-46dc-8674-752e9eac0f67",
   "metadata": {},
   "outputs": [],
   "source": [
    "## Monthly expenditure of a family\n",
    "# Random Data\n",
    "exp_percent= [20, 50, 10,8,12]\n",
    "house_holdcategories = ['Grocery', 'Rent', 'School Fees','Transport','Savings']"
   ]
  },
  {
   "cell_type": "code",
   "execution_count": null,
   "id": "9f97558d-28ab-4ff3-a7a8-d740d7185887",
   "metadata": {},
   "outputs": [],
   "source": [
    "# Use px.pie function to create the chart. Input dataset. \n",
    "# Values parameter will set values associated to the sector. 'exp_percent' feature is passed to it.\n",
    "# labels for the sector are passed to the `house hold categoris` parameter.\n",
    "fig = px.pie(values=exp_percent, names=house_holdcategories, title='Household Expenditure')\n",
    "fig.show()"
   ]
  },
  {
   "cell_type": "markdown",
   "id": "1c5af739-553f-4d51-9afb-6375f7b760fe",
   "metadata": {},
   "source": [
    "#### Inferences\n",
    "From this pie chart we can find that the family expenditure is maximum for rent.\n"
   ]
  },
  {
   "cell_type": "markdown",
   "id": "832d719f-2e18-46d3-8108-944e009cd606",
   "metadata": {},
   "source": [
    "## 7.Sunburst Charts: \n",
    "Sunburst charts represent hierarchial data in the form of concentric circles. Here the innermost circle is the root node which defines the parent, and then the outer rings move down the hierarchy from the centre. They are also called radial charts.We can use them to plot\n",
    "\n",
    "* Worldwide mobile Sales where we can drill down as follows:   \n",
    "    * innermost circle represents total sales  \n",
    "    * first outer circle represents continentwise sales\n",
    "    * second outer circle represents countrywise sales within each continent\n",
    "    \n",
    "    \n",
    "* Disease outbreak hierarchy\n",
    "\n",
    "\n",
    "* Real Estate Industrial chain\n"
   ]
  },
  {
   "cell_type": "code",
   "execution_count": null,
   "id": "46888246-5947-4a0b-b54a-061dd1b919ff",
   "metadata": {},
   "outputs": [],
   "source": [
    "##Example 4: Let us illustrate plot the \n",
    "\n",
    "#Create a dictionary having a set of people represented by a character array and the parents of these characters represented in another\n",
    "## array and the values are the values associated to the vectors.\n",
    "data = dict(\n",
    "    character=[\"Eve\", \"Cain\", \"Seth\", \"Enos\", \"Noam\", \"Abel\", \"Awan\", \"Enoch\", \"Azura\"],\n",
    "    parent=[\"\", \"Eve\", \"Eve\", \"Seth\", \"Seth\", \"Eve\", \"Eve\", \"Awan\", \"Eve\" ],\n",
    "    value=[10, 14, 12, 10, 2, 6, 6, 4, 4])\n",
    "\n",
    "fig = px.sunburst(\n",
    "    data,\n",
    "    names='character',\n",
    "    parents='parent',\n",
    "    values='value',\n",
    "    title=\"Family chart\"\n",
    ")\n",
    "fig.show()"
   ]
  },
  {
   "cell_type": "markdown",
   "id": "1edce0be-f87f-434e-b5ad-89e1d172883c",
   "metadata": {},
   "source": [
    "#### Inferences\n",
    "\n",
    "It is found that here the innermost circle **Eve** represents the parent and the second outer circle represents his childrent **Cain**,**Seth** and so on.Further the outermost circle represents his grandchildren **Enoch** and **Enos**\n"
   ]
  },
  {
   "cell_type": "markdown",
   "id": "092b4d3f-6a61-4878-a526-14891e661ab3",
   "metadata": {},
   "source": [
    "## II- Practice Exercises: Apply your Plotly Skills to an Airline Dataset\n",
    "\n",
    "The Reporting Carrier On-Time Performance Dataset contains information on approximately 200 million domestic US flights reported to the United States Bureau of Transportation Statistics. The dataset contains basic information about each flight (such as date, time, departure airport, arrival airport) and, if applicable, the amount of time the flight was delayed and information about the reason for the delay. This dataset can be used to predict the likelihood of a flight arriving on time.\n",
    "\n",
    "Preview data, dataset metadata, and data glossary [here.](https://dax-cdn.cdn.appdomain.cloud/dax-airline/1.0.1/data-preview/index.html)\n"
   ]
  },
  {
   "cell_type": "markdown",
   "id": "5614359d-9074-49d9-9b81-899fe7ddf12b",
   "metadata": {},
   "source": [
    "# Read Data\n"
   ]
  },
  {
   "cell_type": "code",
   "execution_count": null,
   "id": "4db102f4-5277-474b-9d76-c8813e82b2b1",
   "metadata": {},
   "outputs": [],
   "source": [
    "# Read the airline data into pandas dataframe\n",
    "from js import fetch\n",
    "import io\n",
    "\n",
    "URL = 'https://cf-courses-data.s3.us.cloud-object-storage.appdomain.cloud/IBMDeveloperSkillsNetwork-DV0101EN-SkillsNetwork/Data%20Files/airline_data.csv'\n",
    "resp = await fetch(URL)\n",
    "text = io.BytesIO((await resp.arrayBuffer()).to_py())\n",
    "\n",
    "airline_data =  pd.read_csv(text,\n",
    "                            encoding = \"ISO-8859-1\",\n",
    "                            dtype={'Div1Airport': str, 'Div1TailNum': str, \n",
    "                                   'Div2Airport': str, 'Div2TailNum': str})\n",
    "\n",
    "print('Data downloaded and read into a dataframe!')"
   ]
  },
  {
   "cell_type": "code",
   "execution_count": null,
   "id": "d4db438e-e04a-4cb6-b509-c4188fad6b9a",
   "metadata": {},
   "outputs": [],
   "source": [
    "# Preview the first 5 lines of the loaded data \n",
    "airline_data.head()"
   ]
  },
  {
   "cell_type": "code",
   "execution_count": null,
   "id": "2f402b99-09ba-4060-9102-8eec96ffdf94",
   "metadata": {},
   "outputs": [],
   "source": [
    "# Shape of the data\n",
    "airline_data.shape"
   ]
  },
  {
   "cell_type": "code",
   "execution_count": null,
   "id": "a9f9785e-6c8e-46ae-add8-afad2d528f4e",
   "metadata": {},
   "outputs": [],
   "source": [
    "# Randomly sample 500 data points. Setting the random state to be 42 so that we get same result.\n",
    "data = airline_data.sample(n=500, random_state=42)"
   ]
  },
  {
   "cell_type": "code",
   "execution_count": null,
   "id": "727f1ce3-d535-4d86-9665-b9e3ebb622ab",
   "metadata": {},
   "outputs": [],
   "source": [
    "# Get the shape of the trimmed data\n",
    "data.shape"
   ]
  },
  {
   "cell_type": "markdown",
   "id": "0647f33e-bcf2-4b25-8063-4f7c2b55d994",
   "metadata": {},
   "source": [
    "It would be interesting if we visually  capture details such as\n",
    "\n",
    "* Departure time changes with respect to airport distance.\n",
    "\n",
    "* Average Flight Delay time over the months\n",
    "\n",
    "* Comparing number of flights in each destination state\n",
    "\n",
    "* Number of  flights per reporting airline\n",
    "\n",
    "* Distrubution of arrival delay\n",
    "\n",
    "* Proportion of distance group by month (month indicated by numbers)\n",
    "\n",
    "* Hierarchical view in othe order of month and destination state holding value of number of flights\n"
   ]
  },
  {
   "cell_type": "markdown",
   "id": "076d25a8-b259-4491-9868-f065cbbc471c",
   "metadata": {},
   "source": [
    "# plotly.graph_objects¶\n"
   ]
  },
  {
   "cell_type": "markdown",
   "id": "79c41ce0-7a55-49d9-8bc0-f408a5470413",
   "metadata": {},
   "source": [
    "## 1. Scatter Plot\n"
   ]
  },
  {
   "cell_type": "markdown",
   "id": "2b510f27-5a7c-4575-9fcb-01d22da9e5d8",
   "metadata": {},
   "source": [
    "Let us use a scatter plot to represent departure time changes with respect to airport distance\n",
    "\n",
    "This plot should contain the following\n",
    "\n",
    "* Title as **Distance vs Departure Time**.\n",
    "* x-axis label should be **Distance**\n",
    "* y-axis label should be **DeptTime**\n",
    "* **Distance** column data from the flight delay dataset should be considered in x-axis\n",
    "* **DepTime** column data from the flight delay dataset should be considered in y-axis\n",
    "* Scatter plot markers should be of red color\n"
   ]
  },
  {
   "cell_type": "code",
   "execution_count": null,
   "id": "d0824cde-2a43-4c61-970b-b0be27407997",
   "metadata": {},
   "outputs": [],
   "source": [
    "## Write your code here"
   ]
  },
  {
   "cell_type": "markdown",
   "id": "1bdc4f32-f5ad-43cf-a8a6-861df5d139b0",
   "metadata": {},
   "source": [
    "Double-click **here** for hint.\n",
    "<!-- \n",
    "***Use go.scatter() method*** and mode as markers\n",
    "-->\n"
   ]
  },
  {
   "cell_type": "markdown",
   "id": "c961cf25-a6b5-4df7-9f4c-8aac36731142",
   "metadata": {},
   "source": [
    "Double-click **here** for the solution.\n",
    "\n",
    "<!-- The answer is below:\n",
    "\n",
    "    \n",
    "##First we will create an empty figure ising go.Figure()\n",
    "fig=go.Figure()\n",
    "#Next we will create a scatter plot by using the add_trace function and use the go.scatter() function within it\n",
    "# In go.Scatter we define the x-axis data,y-axis data and define the mode as markers with color of the marker as red\n",
    "fig.add_trace(go.Scatter(x=data['Distance'], y=data['DepTime'], mode='markers', marker=dict(color='red')))\n",
    "fig.update_layout(title='Distance vs Departure Time', xaxis_title='Distance', yaxis_title='DepTime')\n",
    "# Display the figure\n",
    "fig.show()\n",
    "-->\n"
   ]
  },
  {
   "cell_type": "markdown",
   "id": "d9bdbf32-0a0d-408f-b5cb-06a96a02ac6b",
   "metadata": {},
   "source": [
    "#### Inferences\n",
    "\n",
    "It can be inferred that there are more flights round the clock for shorter distances. However, for longer distance there are limited flights through the day.\n"
   ]
  },
  {
   "cell_type": "markdown",
   "id": "ea91d377-bfc6-4d38-92ad-6f82af3a5faf",
   "metadata": {},
   "source": [
    "## 2. Line Plot\n"
   ]
  },
  {
   "cell_type": "markdown",
   "id": "d0844b06-a819-44cb-b76a-ab1db7681726",
   "metadata": {},
   "source": [
    "Let us now use a line plot to extract average monthly arrival delay time and see how it changes over the year.\n",
    "\n",
    "  This plot should contain the following\n",
    "\n",
    "* Title as **Month vs Average Flight Delay Time**.\n",
    "* x-axis label should be **Month**\n",
    "* y-axis label should be **ArrDelay**\n",
    "* A new dataframe **line_data** should be created which consists of 2 columns average **arrival delay time per month** and **month** from the dataset\n",
    "* **Month** column data from the line_data dataframe should be considered in x-axis\n",
    "* **ArrDelay** column data from the ine_data dataframeshould be considered in y-axis\n",
    "* Plotted line in the line plot should be of green color\n"
   ]
  },
  {
   "cell_type": "code",
   "execution_count": null,
   "id": "39a2cb0c-7a3e-4746-be47-654220a55d1c",
   "metadata": {},
   "outputs": [],
   "source": [
    "# Group the data by Month and compute average over arrival delay time.\n",
    "line_data = data.groupby('Month')['ArrDelay'].mean().reset_index()"
   ]
  },
  {
   "cell_type": "code",
   "execution_count": null,
   "id": "1a2fe501-368f-4744-8003-83d9461db431",
   "metadata": {},
   "outputs": [],
   "source": [
    "# Display the data\n",
    "line_data"
   ]
  },
  {
   "cell_type": "code",
   "execution_count": null,
   "id": "cb7479b3-e3ce-4e83-9954-c281ba49c668",
   "metadata": {},
   "outputs": [],
   "source": [
    "## Write your code here"
   ]
  },
  {
   "cell_type": "markdown",
   "id": "5210d3e0-84cd-413e-923a-9f1071aba2be",
   "metadata": {},
   "source": [
    "Double-click **here** for hint.\n",
    "<!--\n",
    "*   Hint: Scatter and line plot vary by updating mode parameter.\n",
    "-->\n"
   ]
  },
  {
   "cell_type": "markdown",
   "id": "90e906de-0e04-48eb-8557-c7dec43c5902",
   "metadata": {},
   "source": [
    "Double-click **here** for the solution.\n",
    "\n",
    "<!-- The answer is below:\n",
    "\n",
    "    \n",
    "##First we will create an empty figure ising go.Figure()\n",
    "fig=go.Figure()\n",
    "##Next we will create a line plot by using the add_trace function and use the go.scatter() function within it\n",
    "# In go.Scatter we define the x-axis data,y-axis data and define the mode as lines with color of the marker as green\n",
    "fig.add_trace(go.Scatter(x=line_data['Month'], y=line_data['ArrDelay'], mode='lines', marker=dict(color='green')))\n",
    "# Create line plot here\n",
    "## Here we update these values under function attributes such as title,xaxis_title and yaxis_title\n",
    "fig.update_layout(title='Month vs Average Flight Delay Time', xaxis_title='Month', yaxis_title='ArrDelay')\n",
    "fig.show()\n",
    "-->\n"
   ]
  },
  {
   "cell_type": "markdown",
   "id": "6dd459f9-63c3-4619-9810-4c5f50ba5a3b",
   "metadata": {},
   "source": [
    "#### Inferences\n",
    "\n",
    "It is found that in the month of June the average monthly delay time is the maximum\n"
   ]
  },
  {
   "cell_type": "markdown",
   "id": "ccfe6390-dc6d-4562-bec2-dd6621098e44",
   "metadata": {},
   "source": [
    "# plotly.express¶\n"
   ]
  },
  {
   "cell_type": "markdown",
   "id": "d35d19d8-ea4f-407e-8521-21dbadb18886",
   "metadata": {},
   "source": [
    "## 3. Bar Chart\n"
   ]
  },
  {
   "cell_type": "markdown",
   "id": "b302ed71-aaa1-46ac-b263-4dfb6d0b8fa5",
   "metadata": {},
   "source": [
    "\n",
    "Let us use a bar chart to extract number of flights from a specific airline that goes to a destination\n",
    "\n",
    "This plot should contain the following\n",
    "\n",
    "* Title as **Total number of flights to the destination state split by reporting air**.\n",
    "* x-axis label should be **DestState**\n",
    "* y-axis label should be **Flights**\n",
    "* Create a new dataframe called **bar_data**  which contains 2 columns **DestState** and **Flights**.Here **flights** indicate total number of flights in each combination.\n"
   ]
  },
  {
   "cell_type": "code",
   "execution_count": null,
   "id": "7df2f135-e6f6-46f9-a2aa-fdbe02d90970",
   "metadata": {},
   "outputs": [],
   "source": [
    "# Group the data by destination state and reporting airline. Compute total number of flights in each combination\n",
    "bar_data = data.groupby('DestState')['Flights'].sum().reset_index()"
   ]
  },
  {
   "cell_type": "code",
   "execution_count": null,
   "id": "00fec842-5572-4ec9-bb40-af5d07756816",
   "metadata": {},
   "outputs": [],
   "source": [
    "# Display the data\n",
    "bar_data"
   ]
  },
  {
   "cell_type": "code",
   "execution_count": null,
   "id": "0bf6109d-d178-4053-966e-6fa6f8b15244",
   "metadata": {},
   "outputs": [],
   "source": [
    "## Write your code here"
   ]
  },
  {
   "cell_type": "markdown",
   "id": "b9ca3bbc-ae55-4778-81e4-50404b7f3ec9",
   "metadata": {},
   "source": [
    "Double-click **here** for hint.\n",
    "<!--\n",
    "***Use the px.bar() function***\n",
    "-->\n"
   ]
  },
  {
   "cell_type": "markdown",
   "id": "d7b1377d-c0ba-47cd-81e4-bbb636fc73d4",
   "metadata": {},
   "source": [
    "Double-click **here** for the solution.\n",
    "\n",
    "<!-- The answer is below:\n",
    "\n",
    "    \n",
    "# Use plotly express bar chart function px.bar. Provide input data, x and y axis variable, and title of the chart.\n",
    "# This will give total number of flights to the destination state.\n",
    "fig = px.bar(bar_data, x=\"DestState\", y=\"Flights\", title='Total number of flights to the destination state split by reporting airline') \n",
    "fig.show()\n",
    "-->\n"
   ]
  },
  {
   "cell_type": "markdown",
   "id": "efdf931d-36ff-4b85-9028-6da441616a28",
   "metadata": {},
   "source": [
    "#### Inferences\n",
    "\n",
    "It is found that maximum flights are to destination state **CA** which is around 68 and there is only 1 flight to destination state **VT**\n"
   ]
  },
  {
   "cell_type": "markdown",
   "id": "df898b6b-e734-4289-b09c-92d87874e3f3",
   "metadata": {},
   "source": [
    "## 4. Histogram\n"
   ]
  },
  {
   "cell_type": "markdown",
   "id": "a6e3c7de-5bd0-4be0-a158-3922bc73e6e3",
   "metadata": {},
   "source": [
    "\n",
    "Let us represent the distribution of arrival delay using a histogram\n",
    "\n",
    "This plot should contain the following\n",
    "\n",
    "* Title as **Total number of flights to the destination state split by reporting air**.\n",
    "* x-axis label should be **ArrayDelay**\n",
    "* y-axis will show the count of arrival delay\n"
   ]
  },
  {
   "cell_type": "code",
   "execution_count": null,
   "id": "106c3d32-fa23-404e-aef1-e61bedc7eb54",
   "metadata": {},
   "outputs": [],
   "source": [
    "# Set missing values to 0\n",
    "data['ArrDelay'] = data['ArrDelay'].fillna(0)"
   ]
  },
  {
   "cell_type": "code",
   "execution_count": null,
   "id": "619888a4-74fb-410e-811a-483956cc641d",
   "metadata": {},
   "outputs": [],
   "source": [
    "## Write your code here"
   ]
  },
  {
   "cell_type": "markdown",
   "id": "66cb5de6-5527-42dd-ac16-fc8cffd66eaa",
   "metadata": {},
   "source": [
    "Double-click **here** for hint.\n",
    "<!--\n",
    "***Use the px.histogram() function***\n",
    "-->\n"
   ]
  },
  {
   "cell_type": "markdown",
   "id": "594a0172-97db-4d2d-85a5-0aed5bdfa305",
   "metadata": {},
   "source": [
    "Double-click **here** for the solution.\n",
    "\n",
    "<!-- The answer is below:\n",
    "## Use plotly express histogram chart function px.histogram.Provide input data x to the histogram\n",
    "fig = px.histogram(data, x=\"ArrDelay\",title=\"Total number of flights to the destination state split by reporting air.\")\n",
    "fig.show()\n",
    "    \n",
    "\n",
    "-->\n"
   ]
  },
  {
   "cell_type": "markdown",
   "id": "cee02fb7-fe78-49a3-acae-a34c843a3a14",
   "metadata": {},
   "source": [
    "#### Inferences\n",
    "\n",
    "It is found that there is only max of 5 flights with an arrival delay of 50-54 minutes and around 17 flights with an arrival delay of 20-25 minutes\n"
   ]
  },
  {
   "cell_type": "markdown",
   "id": "8bd77e51-a1e9-436e-9cad-2274531472b4",
   "metadata": {},
   "source": [
    "## 5. Bubble Chart\n"
   ]
  },
  {
   "cell_type": "markdown",
   "id": "d661d344-9894-411b-85b0-ffad181cfbbd",
   "metadata": {},
   "source": [
    "Let  use a bubble plot to represent number of flights as per reporting airline\n",
    "\n",
    "This plot should contain the following\n",
    "\n",
    "* Title as **Reporting Airline vs Number of Flights**.\n",
    "* x-axis label should be **Reporting_Airline**\n",
    "* y-axis label should be **Flights**\n",
    "* size of the bubble should be **Flights** indicating number of flights\n",
    "* Name of the hover tooltip to `reporting_airline` using `hover_name` parameter.\n"
   ]
  },
  {
   "cell_type": "code",
   "execution_count": null,
   "id": "b5042c0f-cbf3-40e9-bc1a-c865554e87d3",
   "metadata": {},
   "outputs": [],
   "source": [
    "# Group the data by reporting airline and get number of flights\n",
    "bub_data = data.groupby('Reporting_Airline')['Flights'].sum().reset_index()"
   ]
  },
  {
   "cell_type": "code",
   "execution_count": null,
   "id": "a243d080-97c3-4220-897c-1abe92c27015",
   "metadata": {},
   "outputs": [],
   "source": [
    "bub_data"
   ]
  },
  {
   "cell_type": "code",
   "execution_count": null,
   "id": "0af93d74-ee73-4d29-9d8c-72f51427ff96",
   "metadata": {},
   "outputs": [],
   "source": [
    "## Write your code here\n"
   ]
  },
  {
   "cell_type": "markdown",
   "id": "b51d6089-46d1-4c1b-b7af-754e1e865981",
   "metadata": {},
   "source": [
    "Double-click **here** for hint.\n",
    "<!--\n",
    "***Use the px.scatter() function and define the size attribute values apart from x and y attribute values***\n",
    "-->\n"
   ]
  },
  {
   "cell_type": "markdown",
   "id": "fd35e296-b9e3-4a62-804a-aa02f3e78209",
   "metadata": {},
   "source": [
    "Double-click **here** for the solution.\n",
    "\n",
    "<!-- The answer is below:\n",
    "## Bubble chart using px.scatter function with x ,y and size variables defined.Title defined as Reporting Airline vs Number of Flights\n",
    "fig = px.scatter(bub_data, x=\"Reporting_Airline\", y=\"Flights\", size=\"Flights\",\n",
    "                 hover_name=\"Reporting_Airline\", title='Reporting Airline vs Number of Flights', size_max=60)\n",
    "fig.show()\n",
    "    \n",
    "\n",
    "-->\n"
   ]
  },
  {
   "cell_type": "markdown",
   "id": "0529353a-76a2-480c-8291-17797b0b667c",
   "metadata": {},
   "source": [
    "#### Inferences\n",
    "\n",
    "It is found that the reporting airline **WN** has the highest number of flights which is around 86\n"
   ]
  },
  {
   "cell_type": "markdown",
   "id": "d504c912-2a57-4381-bf5b-1550924896b3",
   "metadata": {},
   "source": [
    "## 6. Pie Chart\n"
   ]
  },
  {
   "cell_type": "markdown",
   "id": "936ba3bf-6eee-4dff-8f6d-cbec9a464f03",
   "metadata": {},
   "source": [
    "Let us represent the proportion of Flights by Distance Group (Flights indicated by numbers)\n",
    "\n",
    "This plot should contain the following\n",
    "\n",
    "* Title as **Flight propotion by Distance Group**.\n",
    "* values should be **Flights**\n",
    "* names should be **DistanceGroup**\n"
   ]
  },
  {
   "cell_type": "code",
   "execution_count": null,
   "id": "d8a177e5-002d-4017-8a16-ee0a60621f56",
   "metadata": {},
   "outputs": [],
   "source": [
    "## Write your code here"
   ]
  },
  {
   "cell_type": "markdown",
   "id": "0f3b4f98-7eb6-437b-abf1-825b488fd0c3",
   "metadata": {},
   "source": [
    "Double-click **here** for hint.\n",
    "<!--\n",
    "***Use the px.pie() function***\n",
    "-->\n"
   ]
  },
  {
   "cell_type": "markdown",
   "id": "c6b6842e-5fe8-479f-b953-27ee5068c3cf",
   "metadata": {},
   "source": [
    "Double-click **here** for the solution.\n",
    "\n",
    "<!-- The answer is below:\n",
    "# Use px.pie function to create the chart. Input dataset. \n",
    "# Values parameter will set values associated to the sector. 'Flights' feature is passed to it.\n",
    "# labels for the sector are passed to the `names` parameter.\n",
    "fig = px.pie(data, values='Flights', names='DistanceGroup', title='Flight propotion by Distance Group')\n",
    "fig.show()\n",
    "    \n",
    "\n",
    "-->\n"
   ]
  },
  {
   "cell_type": "markdown",
   "id": "0e8e0ef8-661f-4929-8904-58e8454ecfba",
   "metadata": {},
   "source": [
    "#### Inferences\n",
    "\n",
    "It is found that Distance group 2 has the highest flight proportion.\n"
   ]
  },
  {
   "cell_type": "markdown",
   "id": "37e6305d-867c-41de-912a-c3066e067192",
   "metadata": {},
   "source": [
    "## 7. SunBurst Charts\n"
   ]
  },
  {
   "cell_type": "markdown",
   "id": "06a16963-0191-4a85-a887-91e42d8241eb",
   "metadata": {},
   "source": [
    "Let us represent the hierarchical view in othe order of month and destination state holding value of number of flights\n",
    "\n",
    "This plot should contain the following\n",
    "\n",
    "*  Define hierarchy of sectors from root to leaves in `path` parameter. Here, we go from `Month` to `DestStateName` feature.\n",
    "*   Set sector values in `values` parameter. Here, we can pass in `Flights` feature.\n",
    "*   Show the figure.\n",
    "*   Title as **Flight Distribution Hierarchy**\n"
   ]
  },
  {
   "cell_type": "code",
   "execution_count": null,
   "id": "11dc060e-81cc-429f-8a93-7eee4aa5b427",
   "metadata": {},
   "outputs": [],
   "source": [
    "## Write your code here"
   ]
  },
  {
   "cell_type": "markdown",
   "id": "03372628-5ad1-42ff-9f4c-be4986941eba",
   "metadata": {},
   "source": [
    "Double-click **here** for hint.\n",
    "<!--\n",
    "***Use the px.sunburst() function***\n",
    "-->\n"
   ]
  },
  {
   "cell_type": "markdown",
   "id": "413fe7f0-28e9-4cbd-9642-a666139185ba",
   "metadata": {},
   "source": [
    "Double-click **here** for the solution.\n",
    "\n",
    "<!-- The answer is below:\n",
    "## Define path as Month and DestStateName and values as Flights.\n",
    "fig = px.sunburst(data, path=['Month', 'DestStateName'], values='Flights',title='Flight Distribution Hierarchy')\n",
    "fig.show()\n",
    "    \n",
    "\n",
    "-->\n"
   ]
  },
  {
   "cell_type": "markdown",
   "id": "e5697ce4-e63c-479b-a1d5-2541e468281e",
   "metadata": {},
   "source": [
    "#### Inferences\n",
    "\n",
    "Here the  **Month** numbers present in the innermost concentric circle is the root and for each month we will check the **number of flights** for the different **destination states** under it.\n"
   ]
  },
  {
   "cell_type": "markdown",
   "id": "76caa993-8aae-40c1-8311-b202af79f77d",
   "metadata": {},
   "source": [
    "## Summary\n",
    "\n",
    "Congratulations for completing your lab.\n",
    "\n",
    "In this lab, you have learnt how to use `plotly.graph_objects` and `plotly.express` for creating plots and charts.\n"
   ]
  },
  {
   "cell_type": "markdown",
   "id": "e8dd34cc-7519-4571-8cb4-2edc1b2fb84d",
   "metadata": {},
   "source": [
    "## Author(s)\n",
    "[Saishruthi Swaminathan](https://www.linkedin.com/in/saishruthi-swaminathan/?utm_medium=Exinfluencer&utm_source=Exinfluencer&utm_content=000026UJ&utm_term=10006555&utm_id=NA-SkillsNetwork-Channel-SkillsNetworkCoursesIBMDeveloperSkillsNetworkDV0101ENSkillsNetwork970-2022-01-01)\n",
    "\n",
    "Lakshmi Holla\n"
   ]
  },
  {
   "cell_type": "markdown",
   "id": "d55fa9d9-135b-46c1-a6ba-983556b330e1",
   "metadata": {},
   "source": [
    "## Other Contributor(s)\n",
    "\n",
    "Lavanya T S\n"
   ]
  },
  {
   "cell_type": "markdown",
   "id": "7d8d561a-860c-49d5-964c-69f952e7d0ba",
   "metadata": {},
   "source": [
    "## Changelog\n",
    "\n",
    "| Date       | Version | Changed by | Change Description                   |\n",
    "| ---------- | ------- | ---------- | ------------------------------------ |\n",
    "| 12-18-2020 | 1.0     | Nayef      | Added dataset link and upload to Git |\n",
    "| 07-02-2023 | 1.1     | Lakshmi Holla     | Updated lab |\n"
   ]
  },
  {
   "cell_type": "markdown",
   "id": "5924b0bc-8f5f-49ce-af7b-165b7dc041f7",
   "metadata": {},
   "source": [
    "## <h3 align=\"center\"> © IBM Corporation 2023. All rights reserved. <h3/>\n"
   ]
  }
 ],
 "metadata": {
  "kernelspec": {
   "display_name": "Python 3 (ipykernel)",
   "language": "python",
   "name": "python3"
  },
  "language_info": {
   "codemirror_mode": {
    "name": "ipython",
    "version": 3
   },
   "file_extension": ".py",
   "mimetype": "text/x-python",
   "name": "python",
   "nbconvert_exporter": "python",
   "pygments_lexer": "ipython3",
   "version": "3.9.7"
  }
 },
 "nbformat": 4,
 "nbformat_minor": 4
}
